{
 "cells": [
  {
   "cell_type": "code",
   "execution_count": 18,
   "metadata": {},
   "outputs": [],
   "source": [
    "\n",
    "from selenium import webdriver\n",
    "from selenium.webdriver.support.ui import Select\n",
    "from selenium.webdriver.common.by import By\n",
    "import time\n"
   ]
  },
  {
   "cell_type": "code",
   "execution_count": 28,
   "metadata": {},
   "outputs": [],
   "source": [
    "username = \"\"\n",
    "password = \"\"\n",
    "driver = webdriver.Chrome()\n",
    "driver.set_window_size(1024, 768)\n",
    "driver.get(\"https://www.cotsrtas.org/login\")\n",
    "\n",
    "\n",
    "time.sleep(5)\n",
    "driver.find_element(by=webdriver.common.by.By.NAME,value=\"username\").send_keys(username)\n",
    "driver.find_element(by=webdriver.common.by.By.NAME,value=\"password\").send_keys(username)\n",
    "driver.find_element(by=webdriver.common.by.By.ID, value=\"mobileclick\").click()\n",
    "\n",
    "time.sleep(2)\n",
    "\n",
    "\n",
    "driver.find_element(by=webdriver.common.by.By.CSS_SELECTOR, value= 'a[href=\"/reports\"]').click()\n",
    "\n",
    "\n",
    "time.sleep(2)\n",
    "\n",
    "select_element = driver.find_element(By.ID, 'reportType')\n",
    "select = Select(select_element)\n",
    "select.select_by_value('diversion')\n",
    "\n",
    "time.sleep(2)\n",
    "\n",
    "\n",
    "select_element = driver.find_element(By.ID, 'DateRange')\n",
    "select = Select(select_element)\n",
    "select.select_by_value('month')\n",
    "\n",
    "time.sleep(2)\n",
    "\n",
    "driver.find_element(By.CLASS_NAME, value=\"btn.btn-primary\").click()\n",
    "\n",
    "time.sleep(4)\n",
    "\n",
    "driver.quit()\n",
    "\n"
   ]
  }
 ],
 "metadata": {
  "kernelspec": {
   "display_name": "Python 3",
   "language": "python",
   "name": "python3"
  },
  "language_info": {
   "codemirror_mode": {
    "name": "ipython",
    "version": 3
   },
   "file_extension": ".py",
   "mimetype": "text/x-python",
   "name": "python",
   "nbconvert_exporter": "python",
   "pygments_lexer": "ipython3",
   "version": "3.11.3"
  },
  "orig_nbformat": 4
 },
 "nbformat": 4,
 "nbformat_minor": 2
}
