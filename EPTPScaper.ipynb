{
 "cells": [
  {
   "cell_type": "code",
   "execution_count": 27,
   "metadata": {},
   "outputs": [],
   "source": [
    "from selenium import webdriver\n",
    "from selenium.webdriver.support.ui import Select\n",
    "from selenium.webdriver.common.by import By\n",
    "\n",
    "import csv\n",
    "import time"
   ]
  },
  {
   "cell_type": "code",
   "execution_count": 70,
   "metadata": {},
   "outputs": [],
   "source": [
    "username = \"osu401e\"\n",
    "password = \"osu401e\"\n",
    "driver = webdriver.Chrome()\n",
    "driver.set_window_size(1024, 768)\n",
    "driver.get(\"https://www.cotsrtas.org/login\")\n",
    "\n",
    "\n",
    "time.sleep(2)\n",
    "driver.find_element(by=webdriver.common.by.By.NAME,value=\"username\").send_keys(username)\n",
    "driver.find_element(by=webdriver.common.by.By.NAME,value=\"password\").send_keys(username)\n",
    "driver.find_element(by=webdriver.common.by.By.ID, value=\"mobileclick\").click()\n",
    "\n",
    "time.sleep(4)\n",
    "table_id = driver.find_element(By.ID, \"StatusTableHospital\")\n",
    "headers = [th.text for th in table_id.find_elements(By.TAG_NAME, \"th\")]\n",
    "table_rows = table_id.find_elements(By.TAG_NAME, 'tr')\n",
    "\n",
    "table = [headers]\n",
    "for row in table_rows[1:]:\n",
    "    columns = row.find_elements(By.TAG_NAME, \"td\")\n",
    "    row_data = [col.text for col in columns]\n",
    "    table.append(row_data)\n",
    "\n",
    "time.sleep(1)\n",
    "table_id = driver.find_element(By.ID, \"StatusTableFreeStanding\")\n",
    "#headers = [th.text for th in table_id.find_elements(By.TAG_NAME, \"th\")]\n",
    "table_rows = table_id.find_elements(By.TAG_NAME, 'tr')\n",
    "\n",
    "\n",
    "for row in table_rows[1:]:\n",
    "    columns = row.find_elements(By.TAG_NAME, \"td\")\n",
    "    row_data = [col.text for col in columns]\n",
    "    table.append(row_data)\n",
    "\n",
    "\n",
    "same_body = driver.find_elements(By.ID, 'StatusTableOutOfCounty')\n",
    "\n",
    "for tbody in same_body:\n",
    "\n",
    "    # Get all rows in the table (this will include the header row as well)\n",
    "    rows = tbody.find_elements(By.TAG_NAME, \"tr\")\n",
    "\n",
    "    # Extract data from each row\n",
    "    table_data = [headers]  # Start with headers\n",
    "\n",
    "    for row in rows[1:]:  # Skip header row\n",
    "        columns = row.find_elements(By.TAG_NAME, \"td\")\n",
    "        row_data = [col.text for col in columns]\n",
    "        table.append(row_data)\n",
    "\n",
    "csv_file = 'output.csv'\n",
    "with open(csv_file, mode='w', newline='') as file:\n",
    "    writer = csv.writer(file)\n",
    "    writer.writerows(table)\n",
    "\n",
    "# Close the browser\n",
    "driver.quit()"
   ]
  }
 ],
 "metadata": {
  "kernelspec": {
   "display_name": "Python 3",
   "language": "python",
   "name": "python3"
  },
  "language_info": {
   "codemirror_mode": {
    "name": "ipython",
    "version": 3
   },
   "file_extension": ".py",
   "mimetype": "text/x-python",
   "name": "python",
   "nbconvert_exporter": "python",
   "pygments_lexer": "ipython3",
   "version": "3.11.4"
  },
  "orig_nbformat": 4
 },
 "nbformat": 4,
 "nbformat_minor": 2
}
