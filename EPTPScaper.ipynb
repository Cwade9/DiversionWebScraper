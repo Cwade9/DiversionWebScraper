{
 "cells": [
  {
   "cell_type": "code",
   "execution_count": 1,
   "metadata": {},
   "outputs": [],
   "source": [
    "from selenium import webdriver\n",
    "from selenium.webdriver.support.ui import Select\n",
    "from selenium.webdriver.common.by import By\n",
    "import time"
   ]
  },
  {
   "cell_type": "code",
   "execution_count": 13,
   "metadata": {},
   "outputs": [
    {
     "name": "stdout",
     "output_type": "stream",
     "text": [
      "Mount Carmel East\n",
      "High\n",
      "08/14/2023 13:25\n",
      "Mount Carmel Grove City\n",
      "High\n",
      "08/14/2023 14:28\n",
      "Mount Carmel St. Ann's\n",
      "Moderate\n",
      "08/14/2023 12:25\n",
      "Nationwide Children's Hospital\n",
      "Mild\n",
      "08/14/2023 09:01\n",
      "OhioHealth Doctors\n",
      "Mild\n",
      "08/14/2023 06:15\n",
      "OhioHealth Dublin\n",
      "High\n",
      "08/14/2023 10:51\n",
      "OhioHealth Grant\n",
      "Divert\n",
      "08/14/2023 14:12\n",
      "OhioHealth Grove City\n",
      "Moderate\n",
      "08/14/2023 11:03\n",
      "OhioHealth Riverside\n",
      "High\n",
      "08/14/2023 11:21\n",
      "The Ohio State University Hospital East\n",
      "High\n",
      "08/14/2023 13:48\n",
      "The OSU Wexner Medical Center\n",
      "Moderate\n",
      "08/14/2023 07:28\n",
      "Mount Carmel Franklinton\n",
      "Moderate\n",
      "08/14/2023 14:27\n",
      "Mount Carmel Lewis Center\n",
      "Mild\n",
      "08/14/2023 08:05\n",
      "Mount Carmel Reynoldsburg\n",
      "Mild\n",
      "08/14/2023 08:47\n",
      "Nationwide Children's Lewis Center\n",
      "Mild\n",
      "08/14/2023 09:01\n",
      "OhioHealth Hilliard\n",
      "Mild\n",
      "08/14/2023 05:19\n",
      "OhioHealth Lewis Center\n",
      "Mild\n",
      "08/14/2023 09:13\n",
      "OhioHealth New Albany\n",
      "Mild\n",
      "08/14/2023 05:21\n",
      "OhioHealth Obetz\n",
      "Mild\n",
      "08/14/2023 05:22\n",
      "OhioHealth Pickerington\n",
      "Moderate\n",
      "08/14/2023 08:29\n",
      "OhioHealth Powell\n",
      "Mild\n",
      "08/14/2023 14:05\n",
      "OhioHealth Reynoldsburg\n",
      "High\n",
      "08/14/2023 13:53\n",
      "OhioHealth Westerville\n",
      "High\n",
      "08/14/2023 14:29\n"
     ]
    }
   ],
   "source": [
    "username = \"osu401e\"\n",
    "password = \"osu401e\"\n",
    "driver = webdriver.Chrome()\n",
    "driver.set_window_size(1024, 768)\n",
    "driver.get(\"https://www.cotsrtas.org/login\")\n",
    "\n",
    "\n",
    "time.sleep(2)\n",
    "driver.find_element(by=webdriver.common.by.By.NAME,value=\"username\").send_keys(username)\n",
    "driver.find_element(by=webdriver.common.by.By.NAME,value=\"password\").send_keys(username)\n",
    "driver.find_element(by=webdriver.common.by.By.ID, value=\"mobileclick\").click()\n",
    "\n",
    "time.sleep(4)\n",
    "table_id = driver.find_element(By.ID, \"StatusTableHospital\")\n",
    "table_body = table_id.find_element(By.TAG_NAME, 'tbody')\n",
    "table_rows = table_body.find_elements(By.TAG_NAME, 'tr')\n",
    "\n",
    "for row in table_rows:\n",
    "    table_data = row.find_elements(By.TAG_NAME, \"td\")\n",
    "    for data in table_data:\n",
    "        print(data.text)\n",
    "        \n",
    "        \n",
    "time.sleep(2)\n",
    "table_id = driver.find_element(By.ID, \"StatusTableFreeStanding\")\n",
    "table_body = table_id.find_element(By.TAG_NAME, 'tbody')\n",
    "table_rows = table_body.find_elements(By.TAG_NAME, 'tr')\n",
    "\n",
    "for row in table_rows:\n",
    "    table_data = row.find_elements(By.TAG_NAME, \"td\")\n",
    "    for data in table_data:\n",
    "        print(data.text)\n",
    "    "
   ]
  },
  {
   "cell_type": "code",
   "execution_count": null,
   "metadata": {},
   "outputs": [],
   "source": [
    "document.querySelector(\"#StatusTableFreeStanding\")\n",
    "\n",
    "#StatusTableFreeStanding"
   ]
  },
  {
   "cell_type": "code",
   "execution_count": null,
   "metadata": {},
   "outputs": [],
   "source": [
    "\n",
    "        \n",
    "        \n",
    "        "
   ]
  }
 ],
 "metadata": {
  "kernelspec": {
   "display_name": "Python 3",
   "language": "python",
   "name": "python3"
  },
  "language_info": {
   "codemirror_mode": {
    "name": "ipython",
    "version": 3
   },
   "file_extension": ".py",
   "mimetype": "text/x-python",
   "name": "python",
   "nbconvert_exporter": "python",
   "pygments_lexer": "ipython3",
   "version": "3.11.4"
  },
  "orig_nbformat": 4
 },
 "nbformat": 4,
 "nbformat_minor": 2
}
